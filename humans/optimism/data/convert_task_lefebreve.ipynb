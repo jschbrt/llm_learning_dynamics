{
 "cells": [
  {
   "attachments": {},
   "cell_type": "markdown",
   "metadata": {},
   "source": [
    "# Convert Test Task Lefebvre"
   ]
  },
  {
   "attachments": {},
   "cell_type": "markdown",
   "metadata": {},
   "source": [
    "This code is used to convert the data of Lefebvre from: https://figshare.com/articles/dataset/Behavioral_data_and_data_extraction_code/4265408/1\n",
    "\n",
    "The Data has been downloaded to `dat/lefebvre_exp` with the corresponding matlab and python code. "
   ]
  },
  {
   "cell_type": "code",
   "execution_count": 34,
   "metadata": {},
   "outputs": [],
   "source": [
    "import numpy as np\n",
    "import matplotlib.pyplot as plt\n",
    "import scipy\n",
    "import scipy.io\n",
    "import torch\n",
    "import pandas as pd\n",
    "\n",
    "## Population definition\n",
    "\n",
    "for exp in range(2): # exp 1 == reward and reward omission, exp 2 == reward and punishment\n",
    "    exp+=1\n",
    "    path = 'b_data/'\n",
    "    n_subjects = 0\n",
    "    ## Data Extraction\n",
    "    if exp == 1:\n",
    "        n_subjects = 50\n",
    "        path += 'data_exp1'\n",
    "    elif exp == 2:\n",
    "        n_subjects = 35\n",
    "        path += 'data_exp2'\n",
    "\n",
    "    conditions = np.zeros((n_subjects, 96))\n",
    "    choices = np.zeros((n_subjects, 96))\n",
    "    reward = np.zeros((n_subjects, 96))\n",
    "\n",
    "    for i in range(n_subjects):\n",
    "        if exp == 1:\n",
    "            data = scipy.io.loadmat(path + '/exp1_' + str(i+1))\n",
    "            data = data['data']\n",
    "            conditions[i,:] = data[:,2] # 1 to 4 as per condition\n",
    "            choices[i,:] = data[:, 6] / 2 + 1.5 # 1 for left, 2 for right\n",
    "            reward[i,:] = data[:, 7] / 2 # 0 or 0.5 euro\n",
    "        elif exp == 2:\n",
    "            data = scipy.io.loadmat(path + '/exp2_' + str(i+1)) # 1 to 4 as per condition\n",
    "            data = data['data']\n",
    "            conditions[i,:] = data[:,2] # 1 for left, 2 for right\n",
    "            choices[i,:] = data[:, 4] / 2 + 1.5 # -0.5 or 0.5 euros\n",
    "            reward[i,:] = data[:, 7]\n",
    "    choices -= 1\n",
    "    conditions -= 1\n",
    "    df = pd.DataFrame({'participant_idx': np.repeat(np.arange(0,n_subjects),96),\n",
    "                        'trials_idx': np.tile(np.arange(0,96),n_subjects),\n",
    "                        'cues': conditions.flatten(),\n",
    "                        'actions': choices.flatten(),\n",
    "                        'rewards': reward.flatten()})\n",
    "    df.to_csv(f'exp{exp}.csv',mode='w')\n",
    "\n",
    "    df"
   ]
  }
 ],
 "metadata": {
  "kernelspec": {
   "display_name": "Python 3",
   "language": "python",
   "name": "python3"
  },
  "language_info": {
   "codemirror_mode": {
    "name": "ipython",
    "version": 3
   },
   "file_extension": ".py",
   "mimetype": "text/x-python",
   "name": "python",
   "nbconvert_exporter": "python",
   "pygments_lexer": "ipython3",
   "version": "3.9.17"
  },
  "vscode": {
   "interpreter": {
    "hash": "deac1b006ac145f7eee8215f6d5837ce9b59818a0be72cf3b8e839fad2016de0"
   }
  }
 },
 "nbformat": 4,
 "nbformat_minor": 4
}
